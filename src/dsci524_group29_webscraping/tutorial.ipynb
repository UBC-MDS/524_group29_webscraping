{
 "cells": [
  {
   "cell_type": "markdown",
   "id": "b75f3b29-b0e0-4759-8a07-e380735408a7",
   "metadata": {},
   "source": [
    "# Tutorial for dsci524_group29_webscraping\n",
    "\n",
    "This package provides tools for web scraping, including:\n",
    "\n",
    "- Fetching HTML content from a URL.\n",
    "- Parsing specific elements from the HTML content.\n",
    "- Saving the extracted data to a file.\n",
    "\n",
    "In this tutorial, you will learn how to use each function in the package with real-life examples."
   ]
  },
  {
   "cell_type": "code",
   "execution_count": 1,
   "id": "a3e2ca31-96b9-4fd7-a0e8-e4e9dedd1b7e",
   "metadata": {},
   "outputs": [],
   "source": [
    "# import the required functions from the package\n",
    "from dsci524_group29_webscraping.fetch_html import fetch_html\n",
    "from dsci524_group29_webscraping.parse_content import parse_content\n",
    "from dsci524_group29_webscraping.save_data import save_data"
   ]
  },
  {
   "cell_type": "code",
   "execution_count": 2,
   "id": "ccc2294f-77df-4c99-9c3b-47bf491d5a66",
   "metadata": {},
   "outputs": [
    {
     "name": "stdout",
     "output_type": "stream",
     "text": [
      "<!doctype html>\n",
      "<html>\n",
      "<head>\n",
      "    <title>Example Domain</title>\n",
      "\n",
      "    <meta charset=\"utf-8\" />\n",
      "    <meta http-equiv=\"Content-type\" content=\"text/html; charset=utf-8\" />\n",
      "    <meta name=\"viewport\" content=\"width=device-width, initial-scale=1\" />\n",
      "    <style type=\"text/css\">\n",
      "    body {\n",
      "        background-color: #f0f0f2;\n",
      "        margin: 0;\n",
      "        padding: 0;\n",
      "        font-family: -apple-system, system-ui, BlinkMacSystemFont, \"Segoe UI\", \"Open Sans\", \"Helvetica Neue\", Helvetica, Arial, sans-serif;\n",
      "    \n"
     ]
    }
   ],
   "source": [
    "# Fetch HTML content from a website\n",
    "url = \"https://example.com\"\n",
    "html_content = fetch_html(url)\n",
    "\n",
    "# Display the first 500 characters of the HTML content\n",
    "print(html_content[:500])"
   ]
  },
  {
   "cell_type": "code",
   "execution_count": 3,
   "id": "d13f5aa2-5689-44d9-b88b-87fab9830366",
   "metadata": {},
   "outputs": [
    {
     "name": "stdout",
     "output_type": "stream",
     "text": [
      "[{'value': 'This domain is for use in illustrative examples in documents. You may use this\\n    domain in literature without prior coordination or asking for permission.'}, {'value': None}]\n"
     ]
    }
   ],
   "source": [
    "# Parse paragraph tags from the HTML content using CSS selector\n",
    "parsed_data = parse_content(html_content, selector=\"p\", selector_type=\"css\")\n",
    "\n",
    "# Display the first 5 parsed elements\n",
    "print(parsed_data[:5])"
   ]
  },
  {
   "cell_type": "code",
   "execution_count": 4,
   "id": "f4299e69-1ece-488f-af32-fce91d841b59",
   "metadata": {},
   "outputs": [
    {
     "name": "stdout",
     "output_type": "stream",
     "text": [
      "[{'value': 'Example Domain'}]\n"
     ]
    }
   ],
   "source": [
    "# Parse headings from the HTML content using XPath selector\n",
    "parsed_headings = parse_content(html_content, selector=\"//h1\", selector_type=\"xpath\")\n",
    "\n",
    "# Display the headings\n",
    "print(parsed_headings)"
   ]
  },
  {
   "cell_type": "code",
   "execution_count": 5,
   "id": "a316c77b-3fc6-49bd-9d0a-e88f99ae4de3",
   "metadata": {},
   "outputs": [
    {
     "name": "stdout",
     "output_type": "stream",
     "text": [
      "Paragraphs saved to 'output_paragraphs.csv'.\n",
      "Headings saved to 'output_headings.csv'.\n"
     ]
    }
   ],
   "source": [
    "# Save the parsed paragraphs to a CSV file\n",
    "save_data(parsed_data, format=\"csv\", destination=\"output_paragraphs.csv\")\n",
    "print(\"Paragraphs saved to 'output_paragraphs.csv'.\")\n",
    "\n",
    "# Save the parsed headings to a CSV file\n",
    "save_data(parsed_headings, format=\"csv\", destination=\"output_headings.csv\")\n",
    "print(\"Headings saved to 'output_headings.csv'.\")"
   ]
  }
 ],
 "metadata": {
  "kernelspec": {
   "display_name": "pycounts",
   "language": "python",
   "name": "python3"
  },
  "language_info": {
   "codemirror_mode": {
    "name": "ipython",
    "version": 3
   },
   "file_extension": ".py",
   "mimetype": "text/x-python",
   "name": "python",
   "nbconvert_exporter": "python",
   "pygments_lexer": "ipython3",
   "version": "3.11.11"
  }
 },
 "nbformat": 4,
 "nbformat_minor": 5
}
